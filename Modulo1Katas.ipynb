Solucion
Aquí está la solución para el primer programa:

from datetime import date

print("Today's date is: " + str(date.today()))

parsec = 11
lightyears = 3.26156 * parsec

print(str(parsec) + " parsec, is " + str(lightyears) + " lightyears")

